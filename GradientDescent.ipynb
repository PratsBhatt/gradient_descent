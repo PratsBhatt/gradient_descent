{
  "nbformat": 4,
  "nbformat_minor": 0,
  "metadata": {
    "colab": {
      "name": "GradientDescent.ipynb",
      "provenance": [],
      "collapsed_sections": []
    },
    "kernelspec": {
      "name": "python3",
      "display_name": "Python 3"
    }
  },
  "cells": [
    {
      "cell_type": "code",
      "metadata": {
        "id": "o7NNV87eF6MH",
        "colab_type": "code",
        "colab": {
          "base_uri": "https://localhost:8080/",
          "height": 134
        },
        "outputId": "b7071506-d106-42e3-9ea1-370967a81fcf"
      },
      "source": [
        "!pip install --upgrade jax jaxlib"
      ],
      "execution_count": 1,
      "outputs": [
        {
          "output_type": "stream",
          "text": [
            "Requirement already up-to-date: jax in /usr/local/lib/python3.6/dist-packages (0.1.72)\n",
            "Requirement already up-to-date: jaxlib in /usr/local/lib/python3.6/dist-packages (0.1.51)\n",
            "Requirement already satisfied, skipping upgrade: numpy>=1.12 in /usr/local/lib/python3.6/dist-packages (from jax) (1.18.5)\n",
            "Requirement already satisfied, skipping upgrade: absl-py in /usr/local/lib/python3.6/dist-packages (from jax) (0.9.0)\n",
            "Requirement already satisfied, skipping upgrade: opt-einsum in /usr/local/lib/python3.6/dist-packages (from jax) (3.2.1)\n",
            "Requirement already satisfied, skipping upgrade: scipy in /usr/local/lib/python3.6/dist-packages (from jaxlib) (1.4.1)\n",
            "Requirement already satisfied, skipping upgrade: six in /usr/local/lib/python3.6/dist-packages (from absl-py->jax) (1.12.0)\n"
          ],
          "name": "stdout"
        }
      ]
    },
    {
      "cell_type": "code",
      "metadata": {
        "id": "j2WF9FytGLHa",
        "colab_type": "code",
        "colab": {}
      },
      "source": [
        "import numpy as np\n",
        "import jax.numpy as np\n",
        "from jax import grad, numpy\n",
        "from jax import value_and_grad"
      ],
      "execution_count": 2,
      "outputs": []
    },
    {
      "cell_type": "code",
      "metadata": {
        "id": "QdRFznwPG-B5",
        "colab_type": "code",
        "colab": {
          "base_uri": "https://localhost:8080/",
          "height": 104
        },
        "outputId": "ee8674fa-a165-4a16-b2dd-bfd241a3d354"
      },
      "source": [
        "xs = np.array([-1.0,  0.0, 1.0, 2.0, 3.0, 4.0], dtype=float)\n",
        "ys = np.array([-3.0, -1.0, 1.0, 3.0, 5.0, 7.0], dtype=float)"
      ],
      "execution_count": 3,
      "outputs": [
        {
          "output_type": "stream",
          "text": [
            "/usr/local/lib/python3.6/dist-packages/jax/lax/lax.py:5591: UserWarning: Explicitly requested dtype <class 'float'> requested in array is not available, and will be truncated to dtype float32. To enable more dtypes, set the jax_enable_x64 configuration option or the JAX_ENABLE_X64 shell environment variable. See https://github.com/google/jax#current-gotchas for more.\n",
            "  warnings.warn(msg.format(dtype, fun_name , truncated_dtype))\n",
            "/usr/local/lib/python3.6/dist-packages/jax/lib/xla_bridge.py:125: UserWarning: No GPU/TPU found, falling back to CPU.\n",
            "  warnings.warn('No GPU/TPU found, falling back to CPU.')\n"
          ],
          "name": "stderr"
        }
      ]
    },
    {
      "cell_type": "code",
      "metadata": {
        "id": "0X-04OVhHDWt",
        "colab_type": "code",
        "colab": {}
      },
      "source": [
        "def predict(W, b, inputs):\n",
        "    return (inputs * W) + b\n",
        "\n",
        "# Build a toy dataset.\n",
        "inputs = xs\n",
        "targets = ys\n",
        "\n",
        "# Training loss MSE\n",
        "def loss(W, b):\n",
        "    preds = predict(W, b, inputs)\n",
        "    loss = np.sum((preds - targets) ** 2) / 6\n",
        "    return loss\n",
        "\n",
        "# Initializing the b to be constant at -1 and W to start at 8.\n",
        "W = np.array(8, dtype=np.float32)\n",
        "b = np.array(-1, dtype=np.float32)"
      ],
      "execution_count": 4,
      "outputs": []
    },
    {
      "cell_type": "code",
      "metadata": {
        "id": "2xKE3-akajbz",
        "colab_type": "code",
        "colab": {
          "base_uri": "https://localhost:8080/",
          "height": 34
        },
        "outputId": "ca6c5fe4-70a7-4d08-b517-260bcd1a4590"
      },
      "source": [
        "loss(2,-1)"
      ],
      "execution_count": 5,
      "outputs": [
        {
          "output_type": "execute_result",
          "data": {
            "text/plain": [
              "DeviceArray(0., dtype=float32)"
            ]
          },
          "metadata": {
            "tags": []
          },
          "execution_count": 5
        }
      ]
    },
    {
      "cell_type": "code",
      "metadata": {
        "id": "05iFmoINp_mW",
        "colab_type": "code",
        "colab": {
          "base_uri": "https://localhost:8080/",
          "height": 295
        },
        "outputId": "a9af5153-d3f9-46b9-df31-ac01f00a2a05"
      },
      "source": [
        "import matplotlib.pyplot as plt\n",
        "import numpy as np\n",
        "w = np.asarray([-8, -3, -2, -1, 0, 1, 2, 3, 8, 10])\n",
        "l = []\n",
        "\n",
        "for i in range(10):\n",
        "  l.append(loss(w[i], -1))\n",
        "\n",
        "plt.plot(w, l, '-r', label='Loss Function')\n",
        "plt.title('Graph of Loss Function')\n",
        "plt.xlabel('Weight', color='#1C2833')\n",
        "plt.ylabel('Loss', color='#1C2833')\n",
        "plt.legend(loc='upper left')\n",
        "plt.grid()\n",
        "plt.show()"
      ],
      "execution_count": 6,
      "outputs": [
        {
          "output_type": "display_data",
          "data": {
            "image/png": "[encoded data removed]",
            "text/plain": [
              "<Figure size 432x288 with 1 Axes>"
            ]
          },
          "metadata": {
            "tags": [],
            "needs_background": "light"
          }
        }
      ]
    },
    {
      "cell_type": "code",
      "metadata": {
        "id": "zpwNfFH_U-B-",
        "colab_type": "code",
        "colab": {
          "base_uri": "https://localhost:8080/",
          "height": 1000
        },
        "outputId": "6c5f51f2-5d2a-4b12-f726-43a89421bdec"
      },
      "source": [
        "W_array = []\n",
        "L_array = []\n",
        "for i in range(50):\n",
        "  print('Loop starts -----------------------------------')\n",
        "  print('W_old', W)\n",
        "  # Appending the W to a list for visualization later.\n",
        "  W_array.append(W)\n",
        "  loss_value, W_grad = value_and_grad(loss, 0)(W, b)\n",
        "  L_array.append(loss_value)\n",
        "\n",
        "  if loss_value != 0:\n",
        "    W = W - ((0.01) * W_grad)\n",
        "    \n",
        "    print('W_new', W)\n",
        "    print('loss is ', loss_value)\n",
        "    print('Loop ends ------------------------------------')\n",
        "  else:\n",
        "    print('W', W)\n",
        "    print('loss is ', loss_value)\n",
        "    print('Loop ends ------------------------------------')\n",
        "    break"
      ],
      "execution_count": 7,
      "outputs": [
        {
          "output_type": "stream",
          "text": [
            "Loop starts -----------------------------------\n",
            "W_old 8.0\n",
            "W_new 7.38\n",
            "loss is  186.0\n",
            "Loop ends ------------------------------------\n",
            "Loop starts -----------------------------------\n",
            "W_old 7.38\n",
            "W_new 6.8240666\n",
            "loss is  149.54607\n",
            "Loop ends ------------------------------------\n",
            "Loop starts -----------------------------------\n",
            "W_old 6.8240666\n",
            "W_new 6.3255796\n",
            "loss is  120.236694\n",
            "Loop ends ------------------------------------\n",
            "Loop starts -----------------------------------\n",
            "W_old 6.3255796\n",
            "W_new 5.878603\n",
            "loss is  96.67163\n",
            "Loop ends ------------------------------------\n",
            "Loop starts -----------------------------------\n",
            "W_old 5.878603\n",
            "W_new 5.477814\n",
            "loss is  77.72507\n",
            "Loop ends ------------------------------------\n",
            "Loop starts -----------------------------------\n",
            "W_old 5.477814\n",
            "W_new 5.11844\n",
            "loss is  62.491825\n",
            "Loop ends ------------------------------------\n",
            "Loop starts -----------------------------------\n",
            "W_old 5.11844\n",
            "W_new 4.796201\n",
            "loss is  50.24412\n",
            "Loop ends ------------------------------------\n",
            "Loop starts -----------------------------------\n",
            "W_old 4.796201\n",
            "W_new 4.5072603\n",
            "loss is  40.39683\n",
            "Loop ends ------------------------------------\n",
            "Loop starts -----------------------------------\n",
            "W_old 4.5072603\n",
            "W_new 4.2481766\n",
            "loss is  32.479496\n",
            "Loop ends ------------------------------------\n",
            "Loop starts -----------------------------------\n",
            "W_old 4.2481766\n",
            "W_new 4.015865\n",
            "loss is  26.11387\n",
            "Loop ends ------------------------------------\n",
            "Loop starts -----------------------------------\n",
            "W_old 4.015865\n",
            "W_new 3.8075588\n",
            "loss is  20.99584\n",
            "Loop ends ------------------------------------\n",
            "Loop starts -----------------------------------\n",
            "W_old 3.8075588\n",
            "W_new 3.6207776\n",
            "loss is  16.880888\n",
            "Loop ends ------------------------------------\n",
            "Loop starts -----------------------------------\n",
            "W_old 3.6207776\n",
            "W_new 3.4532971\n",
            "loss is  13.572421\n",
            "Loop ends ------------------------------------\n",
            "Loop starts -----------------------------------\n",
            "W_old 3.4532971\n",
            "W_new 3.303123\n",
            "loss is  10.912375\n",
            "Loop ends ------------------------------------\n",
            "Loop starts -----------------------------------\n",
            "W_old 3.303123\n",
            "W_new 3.168467\n",
            "loss is  8.773669\n",
            "Loop ends ------------------------------------\n",
            "Loop starts -----------------------------------\n",
            "W_old 3.168467\n",
            "W_new 3.0477254\n",
            "loss is  7.054129\n",
            "Loop ends ------------------------------------\n",
            "Loop starts -----------------------------------\n",
            "W_old 3.0477254\n",
            "W_new 2.9394605\n",
            "loss is  5.671598\n",
            "Loop ends ------------------------------------\n",
            "Loop starts -----------------------------------\n",
            "W_old 2.9394605\n",
            "W_new 2.842383\n",
            "loss is  4.5600276\n",
            "Loop ends ------------------------------------\n",
            "Loop starts -----------------------------------\n",
            "W_old 2.842383\n",
            "W_new 2.7553368\n",
            "loss is  3.6663132\n",
            "Loop ends ------------------------------------\n",
            "Loop starts -----------------------------------\n",
            "W_old 2.7553368\n",
            "W_new 2.6772852\n",
            "loss is  2.947757\n",
            "Loop ends ------------------------------------\n",
            "Loop starts -----------------------------------\n",
            "W_old 2.6772852\n",
            "W_new 2.607299\n",
            "loss is  2.3700287\n",
            "Loop ends ------------------------------------\n",
            "Loop starts -----------------------------------\n",
            "W_old 2.607299\n",
            "W_new 2.544545\n",
            "loss is  1.9055296\n",
            "Loop ends ------------------------------------\n",
            "Loop starts -----------------------------------\n",
            "W_old 2.544545\n",
            "W_new 2.4882753\n",
            "loss is  1.5320673\n",
            "Loop ends ------------------------------------\n",
            "Loop starts -----------------------------------\n",
            "W_old 2.4882753\n",
            "W_new 2.4378202\n",
            "loss is  1.2317991\n",
            "Loop ends ------------------------------------\n",
            "Loop starts -----------------------------------\n",
            "W_old 2.4378202\n",
            "W_new 2.3925788\n",
            "loss is  0.9903803\n",
            "Loop ends ------------------------------------\n",
            "Loop starts -----------------------------------\n",
            "W_old 2.3925788\n",
            "W_new 2.3520124\n",
            "loss is  0.79627705\n",
            "Loop ends ------------------------------------\n",
            "Loop starts -----------------------------------\n",
            "W_old 2.3520124\n",
            "W_new 2.3156378\n",
            "loss is  0.6402157\n",
            "Loop ends ------------------------------------\n",
            "Loop starts -----------------------------------\n",
            "W_old 2.3156378\n",
            "W_new 2.283022\n",
            "loss is  0.5147408\n",
            "Loop ends ------------------------------------\n",
            "Loop starts -----------------------------------\n",
            "W_old 2.283022\n",
            "W_new 2.2537763\n",
            "loss is  0.4138573\n",
            "Loop ends ------------------------------------\n",
            "Loop starts -----------------------------------\n",
            "W_old 2.2537763\n",
            "W_new 2.2275527\n",
            "loss is  0.33274576\n",
            "Loop ends ------------------------------------\n",
            "Loop starts -----------------------------------\n",
            "W_old 2.2275527\n",
            "W_new 2.2040389\n",
            "loss is  0.26753113\n",
            "Loop ends ------------------------------------\n",
            "Loop starts -----------------------------------\n",
            "W_old 2.2040389\n",
            "W_new 2.1829548\n",
            "loss is  0.21509796\n",
            "Loop ends ------------------------------------\n",
            "Loop starts -----------------------------------\n",
            "W_old 2.1829548\n",
            "W_new 2.1640494\n",
            "loss is  0.17294101\n",
            "Loop ends ------------------------------------\n",
            "Loop starts -----------------------------------\n",
            "W_old 2.1640494\n",
            "W_new 2.1470976\n",
            "loss is  0.13904642\n",
            "Loop ends ------------------------------------\n",
            "Loop starts -----------------------------------\n",
            "W_old 2.1470976\n",
            "W_new 2.1318974\n",
            "loss is  0.11179479\n",
            "Loop ends ------------------------------------\n",
            "Loop starts -----------------------------------\n",
            "W_old 2.1318974\n",
            "W_new 2.118268\n",
            "loss is  0.089884184\n",
            "Loop ends ------------------------------------\n",
            "Loop starts -----------------------------------\n",
            "W_old 2.118268\n",
            "W_new 2.106047\n",
            "loss is  0.07226784\n",
            "Loop ends ------------------------------------\n",
            "Loop starts -----------------------------------\n",
            "W_old 2.106047\n",
            "W_new 2.0950887\n",
            "loss is  0.058104087\n",
            "Loop ends ------------------------------------\n",
            "Loop starts -----------------------------------\n",
            "W_old 2.0950887\n",
            "W_new 2.0852628\n",
            "loss is  0.046716277\n",
            "Loop ends ------------------------------------\n",
            "Loop starts -----------------------------------\n",
            "W_old 2.0852628\n",
            "W_new 2.0764523\n",
            "loss is  0.03756033\n",
            "Loop ends ------------------------------------\n",
            "Loop starts -----------------------------------\n",
            "W_old 2.0764523\n",
            "W_new 2.0685523\n",
            "loss is  0.030198896\n",
            "Loop ends ------------------------------------\n",
            "Loop starts -----------------------------------\n",
            "W_old 2.0685523\n",
            "W_new 2.0614686\n",
            "loss is  0.02428031\n",
            "Loop ends ------------------------------------\n",
            "Loop starts -----------------------------------\n",
            "W_old 2.0614686\n",
            "W_new 2.055117\n",
            "loss is  0.019521676\n",
            "Loop ends ------------------------------------\n",
            "Loop starts -----------------------------------\n",
            "W_old 2.055117\n",
            "W_new 2.0494215\n",
            "loss is  0.015695684\n",
            "Loop ends ------------------------------------\n",
            "Loop starts -----------------------------------\n",
            "W_old 2.0494215\n",
            "W_new 2.0443146\n",
            "loss is  0.01261954\n",
            "Loop ends ------------------------------------\n",
            "Loop starts -----------------------------------\n",
            "W_old 2.0443146\n",
            "W_new 2.0397356\n",
            "loss is  0.010146237\n",
            "Loop ends ------------------------------------\n",
            "Loop starts -----------------------------------\n",
            "W_old 2.0397356\n",
            "W_new 2.0356295\n",
            "loss is  0.008157715\n",
            "Loop ends ------------------------------------\n",
            "Loop starts -----------------------------------\n",
            "W_old 2.0356295\n",
            "W_new 2.0319479\n",
            "loss is  0.0065588956\n",
            "Loop ends ------------------------------------\n",
            "Loop starts -----------------------------------\n",
            "W_old 2.0319479\n",
            "W_new 2.0286465\n",
            "loss is  0.005273429\n",
            "Loop ends ------------------------------------\n",
            "Loop starts -----------------------------------\n",
            "W_old 2.0286465\n",
            "W_new 2.0256863\n",
            "loss is  0.004239871\n",
            "Loop ends ------------------------------------\n"
          ],
          "name": "stdout"
        }
      ]
    },
    {
      "cell_type": "code",
      "metadata": {
        "id": "12eiJUImifN0",
        "colab_type": "code",
        "colab": {
          "base_uri": "https://localhost:8080/",
          "height": 295
        },
        "outputId": "f7dd3ed2-c908-4cf8-beda-6d52bab2a5db"
      },
      "source": [
        "import matplotlib.pyplot as plt\n",
        "import numpy as np\n",
        "w = np.asarray([-3, -2, -1, 0, 1, 2, 3])\n",
        "l = []\n",
        "\n",
        "for i in range(7):\n",
        "  l.append(loss(w[i], -1))\n",
        "\n",
        "plt.plot(w, l, '-r', label='Loss Function')\n",
        "plt.plot(W_array, L_array, '-b', label='Parameter learning')\n",
        "plt.title('Plot learning and loss function')\n",
        "plt.xlabel('Weight', color='#1C2833')\n",
        "plt.ylabel('Loss', color='#1C2833')\n",
        "plt.legend(loc='upper left')\n",
        "plt.grid()\n",
        "plt.show()"
      ],
      "execution_count": 8,
      "outputs": [
        {
          "output_type": "display_data",
          "data": {
            "image/png": "[encoded data removed]",
            "text/plain": [
              "<Figure size 432x288 with 1 Axes>"
            ]
          },
          "metadata": {
            "tags": [],
            "needs_background": "light"
          }
        }
      ]
    }
  ]
}